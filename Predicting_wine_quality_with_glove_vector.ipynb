{
  "nbformat": 4,
  "nbformat_minor": 0,
  "metadata": {
    "colab": {
      "name": "Predicting wine quality with glove-vector.ipynb",
      "version": "0.3.2",
      "provenance": [],
      "collapsed_sections": [],
      "include_colab_link": true
    },
    "kernelspec": {
      "name": "python3",
      "display_name": "Python 3"
    },
    "accelerator": "GPU"
  },
  "cells": [
    {
      "cell_type": "markdown",
      "metadata": {
        "id": "view-in-github",
        "colab_type": "text"
      },
      "source": [
        "<a href=\"https://colab.research.google.com/github/zhengchunqiu/Text-Classification/blob/master/Predicting_wine_quality_with_glove_vector.ipynb\" target=\"_parent\"><img src=\"https://colab.research.google.com/assets/colab-badge.svg\" alt=\"Open In Colab\"/></a>"
      ]
    },
    {
      "cell_type": "markdown",
      "metadata": {
        "id": "yDUAcqgn2bsz",
        "colab_type": "text"
      },
      "source": [
        "# Download data from Kaggle\n",
        "You can download data from kaggle https://www.kaggle.com/zynicide/wine-reviews/home"
      ]
    },
    {
      "cell_type": "code",
      "metadata": {
        "id": "59uVpUWUOzgl",
        "colab_type": "code",
        "colab": {
          "base_uri": "https://localhost:8080/",
          "height": 71
        },
        "outputId": "3e35a889-3953-4480-c0a1-4b6f3cbf8512"
      },
      "source": [
        "!mkdir -p ~/.kaggle\n",
        "!echo '{\"username\":\"***\",\"key\":\"***\"}' > ~/.kaggle/kaggle.json\n",
        "!chmod 600 ~/.kaggle/kaggle.json\n",
        "!kaggle datasets download -d zynicide/wine-reviews\n",
        "!unzip wine-reviews.zip"
      ],
      "execution_count": 1,
      "outputs": [
        {
          "output_type": "stream",
          "text": [
            "401 - Unauthorized\n",
            "Archive:  wine-reviews.zip\n",
            "replace winemag-data-130k-v2.csv? [y]es, [n]o, [A]ll, [N]one, [r]ename: N\n"
          ],
          "name": "stdout"
        }
      ]
    },
    {
      "cell_type": "code",
      "metadata": {
        "id": "GvTXVY2gVMAp",
        "colab_type": "code",
        "outputId": "85ea9dbb-075b-45e6-d94a-7f99c1afd679",
        "colab": {
          "base_uri": "https://localhost:8080/",
          "height": 179
        }
      },
      "source": [
        "!ls -l"
      ],
      "execution_count": 2,
      "outputs": [
        {
          "output_type": "stream",
          "text": [
            "total 7913708\n",
            "-rw-rw-r-- 1 root root 5646236541 Oct 24  2015 glove.840B.300d.txt\n",
            "-rw-r--r-- 1 root root 2176768927 Oct 24  2015 glove.840B.300d.zip\n",
            "-rw-r--r-- 1 root root   45297552 May  8 08:36 model.h5\n",
            "drwxr-xr-x 1 root root       4096 May  3 16:44 sample_data\n",
            "-rw-r--r-- 1 root root   52908706 Nov 27  2017 winemag-data-130k-v2.csv\n",
            "-rw-r--r-- 1 root root   79279294 Nov 27  2017 winemag-data-130k-v2.json\n",
            "-rw-r--r-- 1 root root   49784334 Nov 27  2017 winemag-data_first150k.csv\n",
            "-rw-r--r-- 1 root root   53336173 May  8 02:44 wine-reviews.zip\n"
          ],
          "name": "stdout"
        }
      ]
    },
    {
      "cell_type": "markdown",
      "metadata": {
        "id": "HuXYvP42VmUU",
        "colab_type": "text"
      },
      "source": [
        "# Loading the data"
      ]
    },
    {
      "cell_type": "code",
      "metadata": {
        "id": "R8d-HMN1Vqc5",
        "colab_type": "code",
        "colab": {}
      },
      "source": [
        "import pandas as pd\n",
        "import numpy as np\n",
        "\n",
        "import seaborn as sns\n",
        "import matplotlib.pyplot as plt\n",
        "import os"
      ],
      "execution_count": 0,
      "outputs": []
    },
    {
      "cell_type": "code",
      "metadata": {
        "id": "0HKYvmJcVu0I",
        "colab_type": "code",
        "outputId": "681382b2-3d93-47bb-f5ee-30e9ef468087",
        "colab": {
          "base_uri": "https://localhost:8080/",
          "height": 324
        }
      },
      "source": [
        "train=pd.read_csv('winemag-data_first150k.csv',index_col=False)\n",
        "\n",
        "print(train.shape)\n",
        "train.head()"
      ],
      "execution_count": 4,
      "outputs": [
        {
          "output_type": "stream",
          "text": [
            "(150930, 11)\n"
          ],
          "name": "stdout"
        },
        {
          "output_type": "execute_result",
          "data": {
            "text/html": [
              "<div>\n",
              "<style scoped>\n",
              "    .dataframe tbody tr th:only-of-type {\n",
              "        vertical-align: middle;\n",
              "    }\n",
              "\n",
              "    .dataframe tbody tr th {\n",
              "        vertical-align: top;\n",
              "    }\n",
              "\n",
              "    .dataframe thead th {\n",
              "        text-align: right;\n",
              "    }\n",
              "</style>\n",
              "<table border=\"1\" class=\"dataframe\">\n",
              "  <thead>\n",
              "    <tr style=\"text-align: right;\">\n",
              "      <th></th>\n",
              "      <th>Unnamed: 0</th>\n",
              "      <th>country</th>\n",
              "      <th>description</th>\n",
              "      <th>designation</th>\n",
              "      <th>points</th>\n",
              "      <th>price</th>\n",
              "      <th>province</th>\n",
              "      <th>region_1</th>\n",
              "      <th>region_2</th>\n",
              "      <th>variety</th>\n",
              "      <th>winery</th>\n",
              "    </tr>\n",
              "  </thead>\n",
              "  <tbody>\n",
              "    <tr>\n",
              "      <th>0</th>\n",
              "      <td>0</td>\n",
              "      <td>US</td>\n",
              "      <td>This tremendous 100% varietal wine hails from ...</td>\n",
              "      <td>Martha's Vineyard</td>\n",
              "      <td>96</td>\n",
              "      <td>235.0</td>\n",
              "      <td>California</td>\n",
              "      <td>Napa Valley</td>\n",
              "      <td>Napa</td>\n",
              "      <td>Cabernet Sauvignon</td>\n",
              "      <td>Heitz</td>\n",
              "    </tr>\n",
              "    <tr>\n",
              "      <th>1</th>\n",
              "      <td>1</td>\n",
              "      <td>Spain</td>\n",
              "      <td>Ripe aromas of fig, blackberry and cassis are ...</td>\n",
              "      <td>Carodorum Selección Especial Reserva</td>\n",
              "      <td>96</td>\n",
              "      <td>110.0</td>\n",
              "      <td>Northern Spain</td>\n",
              "      <td>Toro</td>\n",
              "      <td>NaN</td>\n",
              "      <td>Tinta de Toro</td>\n",
              "      <td>Bodega Carmen Rodríguez</td>\n",
              "    </tr>\n",
              "    <tr>\n",
              "      <th>2</th>\n",
              "      <td>2</td>\n",
              "      <td>US</td>\n",
              "      <td>Mac Watson honors the memory of a wine once ma...</td>\n",
              "      <td>Special Selected Late Harvest</td>\n",
              "      <td>96</td>\n",
              "      <td>90.0</td>\n",
              "      <td>California</td>\n",
              "      <td>Knights Valley</td>\n",
              "      <td>Sonoma</td>\n",
              "      <td>Sauvignon Blanc</td>\n",
              "      <td>Macauley</td>\n",
              "    </tr>\n",
              "    <tr>\n",
              "      <th>3</th>\n",
              "      <td>3</td>\n",
              "      <td>US</td>\n",
              "      <td>This spent 20 months in 30% new French oak, an...</td>\n",
              "      <td>Reserve</td>\n",
              "      <td>96</td>\n",
              "      <td>65.0</td>\n",
              "      <td>Oregon</td>\n",
              "      <td>Willamette Valley</td>\n",
              "      <td>Willamette Valley</td>\n",
              "      <td>Pinot Noir</td>\n",
              "      <td>Ponzi</td>\n",
              "    </tr>\n",
              "    <tr>\n",
              "      <th>4</th>\n",
              "      <td>4</td>\n",
              "      <td>France</td>\n",
              "      <td>This is the top wine from La Bégude, named aft...</td>\n",
              "      <td>La Brûlade</td>\n",
              "      <td>95</td>\n",
              "      <td>66.0</td>\n",
              "      <td>Provence</td>\n",
              "      <td>Bandol</td>\n",
              "      <td>NaN</td>\n",
              "      <td>Provence red blend</td>\n",
              "      <td>Domaine de la Bégude</td>\n",
              "    </tr>\n",
              "  </tbody>\n",
              "</table>\n",
              "</div>"
            ],
            "text/plain": [
              "   Unnamed: 0 country                                        description  \\\n",
              "0           0      US  This tremendous 100% varietal wine hails from ...   \n",
              "1           1   Spain  Ripe aromas of fig, blackberry and cassis are ...   \n",
              "2           2      US  Mac Watson honors the memory of a wine once ma...   \n",
              "3           3      US  This spent 20 months in 30% new French oak, an...   \n",
              "4           4  France  This is the top wine from La Bégude, named aft...   \n",
              "\n",
              "                            designation  points  price        province  \\\n",
              "0                     Martha's Vineyard      96  235.0      California   \n",
              "1  Carodorum Selección Especial Reserva      96  110.0  Northern Spain   \n",
              "2         Special Selected Late Harvest      96   90.0      California   \n",
              "3                               Reserve      96   65.0          Oregon   \n",
              "4                            La Brûlade      95   66.0        Provence   \n",
              "\n",
              "            region_1           region_2             variety  \\\n",
              "0        Napa Valley               Napa  Cabernet Sauvignon   \n",
              "1               Toro                NaN       Tinta de Toro   \n",
              "2     Knights Valley             Sonoma     Sauvignon Blanc   \n",
              "3  Willamette Valley  Willamette Valley          Pinot Noir   \n",
              "4             Bandol                NaN  Provence red blend   \n",
              "\n",
              "                    winery  \n",
              "0                    Heitz  \n",
              "1  Bodega Carmen Rodríguez  \n",
              "2                 Macauley  \n",
              "3                    Ponzi  \n",
              "4     Domaine de la Bégude  "
            ]
          },
          "metadata": {
            "tags": []
          },
          "execution_count": 4
        }
      ]
    },
    {
      "cell_type": "code",
      "metadata": {
        "id": "BG42SWIcV2uJ",
        "colab_type": "code",
        "outputId": "eecf8571-72b0-43bc-be0c-8f269ed41a1a",
        "colab": {
          "base_uri": "https://localhost:8080/",
          "height": 297
        }
      },
      "source": [
        "train.describe()"
      ],
      "execution_count": 5,
      "outputs": [
        {
          "output_type": "execute_result",
          "data": {
            "text/html": [
              "<div>\n",
              "<style scoped>\n",
              "    .dataframe tbody tr th:only-of-type {\n",
              "        vertical-align: middle;\n",
              "    }\n",
              "\n",
              "    .dataframe tbody tr th {\n",
              "        vertical-align: top;\n",
              "    }\n",
              "\n",
              "    .dataframe thead th {\n",
              "        text-align: right;\n",
              "    }\n",
              "</style>\n",
              "<table border=\"1\" class=\"dataframe\">\n",
              "  <thead>\n",
              "    <tr style=\"text-align: right;\">\n",
              "      <th></th>\n",
              "      <th>Unnamed: 0</th>\n",
              "      <th>points</th>\n",
              "      <th>price</th>\n",
              "    </tr>\n",
              "  </thead>\n",
              "  <tbody>\n",
              "    <tr>\n",
              "      <th>count</th>\n",
              "      <td>150930.000000</td>\n",
              "      <td>150930.000000</td>\n",
              "      <td>137235.000000</td>\n",
              "    </tr>\n",
              "    <tr>\n",
              "      <th>mean</th>\n",
              "      <td>75464.500000</td>\n",
              "      <td>87.888418</td>\n",
              "      <td>33.131482</td>\n",
              "    </tr>\n",
              "    <tr>\n",
              "      <th>std</th>\n",
              "      <td>43569.882402</td>\n",
              "      <td>3.222392</td>\n",
              "      <td>36.322536</td>\n",
              "    </tr>\n",
              "    <tr>\n",
              "      <th>min</th>\n",
              "      <td>0.000000</td>\n",
              "      <td>80.000000</td>\n",
              "      <td>4.000000</td>\n",
              "    </tr>\n",
              "    <tr>\n",
              "      <th>25%</th>\n",
              "      <td>37732.250000</td>\n",
              "      <td>86.000000</td>\n",
              "      <td>16.000000</td>\n",
              "    </tr>\n",
              "    <tr>\n",
              "      <th>50%</th>\n",
              "      <td>75464.500000</td>\n",
              "      <td>88.000000</td>\n",
              "      <td>24.000000</td>\n",
              "    </tr>\n",
              "    <tr>\n",
              "      <th>75%</th>\n",
              "      <td>113196.750000</td>\n",
              "      <td>90.000000</td>\n",
              "      <td>40.000000</td>\n",
              "    </tr>\n",
              "    <tr>\n",
              "      <th>max</th>\n",
              "      <td>150929.000000</td>\n",
              "      <td>100.000000</td>\n",
              "      <td>2300.000000</td>\n",
              "    </tr>\n",
              "  </tbody>\n",
              "</table>\n",
              "</div>"
            ],
            "text/plain": [
              "          Unnamed: 0         points          price\n",
              "count  150930.000000  150930.000000  137235.000000\n",
              "mean    75464.500000      87.888418      33.131482\n",
              "std     43569.882402       3.222392      36.322536\n",
              "min         0.000000      80.000000       4.000000\n",
              "25%     37732.250000      86.000000      16.000000\n",
              "50%     75464.500000      88.000000      24.000000\n",
              "75%    113196.750000      90.000000      40.000000\n",
              "max    150929.000000     100.000000    2300.000000"
            ]
          },
          "metadata": {
            "tags": []
          },
          "execution_count": 5
        }
      ]
    },
    {
      "cell_type": "code",
      "metadata": {
        "id": "cQ4qdj1kWeU6",
        "colab_type": "code",
        "outputId": "6322eba2-0f0e-4c81-c751-9ef43830642d",
        "colab": {
          "base_uri": "https://localhost:8080/",
          "height": 305
        }
      },
      "source": [
        "train.info()"
      ],
      "execution_count": 6,
      "outputs": [
        {
          "output_type": "stream",
          "text": [
            "<class 'pandas.core.frame.DataFrame'>\n",
            "RangeIndex: 150930 entries, 0 to 150929\n",
            "Data columns (total 11 columns):\n",
            "Unnamed: 0     150930 non-null int64\n",
            "country        150925 non-null object\n",
            "description    150930 non-null object\n",
            "designation    105195 non-null object\n",
            "points         150930 non-null int64\n",
            "price          137235 non-null float64\n",
            "province       150925 non-null object\n",
            "region_1       125870 non-null object\n",
            "region_2       60953 non-null object\n",
            "variety        150930 non-null object\n",
            "winery         150930 non-null object\n",
            "dtypes: float64(1), int64(2), object(8)\n",
            "memory usage: 12.7+ MB\n"
          ],
          "name": "stdout"
        }
      ]
    },
    {
      "cell_type": "markdown",
      "metadata": {
        "id": "miojCdYUYc9j",
        "colab_type": "text"
      },
      "source": [
        "# Exploratory Data Analysis"
      ]
    },
    {
      "cell_type": "code",
      "metadata": {
        "id": "HczM8nJGblKu",
        "colab_type": "code",
        "outputId": "ed0e8c1b-4b9e-4fe2-b232-6730494acb99",
        "colab": {
          "base_uri": "https://localhost:8080/",
          "height": 107
        }
      },
      "source": [
        "import nltk\n",
        "nltk.download('stopwords')\n",
        "nltk.download('punkt')"
      ],
      "execution_count": 7,
      "outputs": [
        {
          "output_type": "stream",
          "text": [
            "[nltk_data] Downloading package stopwords to /root/nltk_data...\n",
            "[nltk_data]   Package stopwords is already up-to-date!\n",
            "[nltk_data] Downloading package punkt to /root/nltk_data...\n",
            "[nltk_data]   Package punkt is already up-to-date!\n"
          ],
          "name": "stdout"
        },
        {
          "output_type": "execute_result",
          "data": {
            "text/plain": [
              "True"
            ]
          },
          "metadata": {
            "tags": []
          },
          "execution_count": 7
        }
      ]
    },
    {
      "cell_type": "code",
      "metadata": {
        "id": "4bFb5w0-WrVw",
        "colab_type": "code",
        "colab": {}
      },
      "source": [
        "from nltk import word_tokenize\n",
        "from nltk.corpus import stopwords\n",
        "from nltk.tokenize.treebank import TreebankWordDetokenizer"
      ],
      "execution_count": 0,
      "outputs": []
    },
    {
      "cell_type": "code",
      "metadata": {
        "id": "u3J1EJQ_aukT",
        "colab_type": "code",
        "colab": {}
      },
      "source": [
        "stopwords=set(stopwords.words('english'))\n",
        "detokenizer=TreebankWordDetokenizer()"
      ],
      "execution_count": 0,
      "outputs": []
    },
    {
      "cell_type": "code",
      "metadata": {
        "id": "vInW0Snmbeki",
        "colab_type": "code",
        "colab": {}
      },
      "source": [
        "def clean_description(desc):\n",
        "  desc=word_tokenize(desc.lower())   # Lowercase text and tokenize it\n",
        "  desc=[token for token in desc if token not in stopwords and token.isalpha()] # remove stopwords\n",
        "  return detokenizer.detokenize(desc)  # combine words to sentence"
      ],
      "execution_count": 0,
      "outputs": []
    },
    {
      "cell_type": "code",
      "metadata": {
        "id": "aHeHLSRwcUpy",
        "colab_type": "code",
        "outputId": "0b0142f8-94ff-4a33-a766-c846d06b3282",
        "colab": {
          "base_uri": "https://localhost:8080/",
          "height": 35
        }
      },
      "source": [
        "clean_description('This tremendous 100% varietal wine hails from Oakville and was aged over three years in oak. Juicy red-cherry fruit and a compelling hint of caramel greet the palate')"
      ],
      "execution_count": 11,
      "outputs": [
        {
          "output_type": "execute_result",
          "data": {
            "text/plain": [
              "'tremendous varietal wine hails oakville aged three years oak juicy fruit compelling hint caramel greet palate'"
            ]
          },
          "metadata": {
            "tags": []
          },
          "execution_count": 11
        }
      ]
    },
    {
      "cell_type": "code",
      "metadata": {
        "id": "QK4b8BCScdfk",
        "colab_type": "code",
        "outputId": "4996d7ee-6af4-4be4-9c4d-6a42ab7ec740",
        "colab": {
          "base_uri": "https://localhost:8080/",
          "height": 53
        }
      },
      "source": [
        "%%time\n",
        "train['cleaned_description']=train['description'].apply(clean_description)"
      ],
      "execution_count": 12,
      "outputs": [
        {
          "output_type": "stream",
          "text": [
            "CPU times: user 1min 18s, sys: 134 ms, total: 1min 18s\n",
            "Wall time: 1min 18s\n"
          ],
          "name": "stdout"
        }
      ]
    },
    {
      "cell_type": "code",
      "metadata": {
        "id": "vX3I8-JVdyVZ",
        "colab_type": "code",
        "outputId": "f3efef6a-c802-477e-c1dd-76b8c3fef871",
        "colab": {
          "base_uri": "https://localhost:8080/",
          "height": 306
        }
      },
      "source": [
        "train.head()"
      ],
      "execution_count": 13,
      "outputs": [
        {
          "output_type": "execute_result",
          "data": {
            "text/html": [
              "<div>\n",
              "<style scoped>\n",
              "    .dataframe tbody tr th:only-of-type {\n",
              "        vertical-align: middle;\n",
              "    }\n",
              "\n",
              "    .dataframe tbody tr th {\n",
              "        vertical-align: top;\n",
              "    }\n",
              "\n",
              "    .dataframe thead th {\n",
              "        text-align: right;\n",
              "    }\n",
              "</style>\n",
              "<table border=\"1\" class=\"dataframe\">\n",
              "  <thead>\n",
              "    <tr style=\"text-align: right;\">\n",
              "      <th></th>\n",
              "      <th>Unnamed: 0</th>\n",
              "      <th>country</th>\n",
              "      <th>description</th>\n",
              "      <th>designation</th>\n",
              "      <th>points</th>\n",
              "      <th>price</th>\n",
              "      <th>province</th>\n",
              "      <th>region_1</th>\n",
              "      <th>region_2</th>\n",
              "      <th>variety</th>\n",
              "      <th>winery</th>\n",
              "      <th>cleaned_description</th>\n",
              "    </tr>\n",
              "  </thead>\n",
              "  <tbody>\n",
              "    <tr>\n",
              "      <th>0</th>\n",
              "      <td>0</td>\n",
              "      <td>US</td>\n",
              "      <td>This tremendous 100% varietal wine hails from ...</td>\n",
              "      <td>Martha's Vineyard</td>\n",
              "      <td>96</td>\n",
              "      <td>235.0</td>\n",
              "      <td>California</td>\n",
              "      <td>Napa Valley</td>\n",
              "      <td>Napa</td>\n",
              "      <td>Cabernet Sauvignon</td>\n",
              "      <td>Heitz</td>\n",
              "      <td>tremendous varietal wine hails oakville aged t...</td>\n",
              "    </tr>\n",
              "    <tr>\n",
              "      <th>1</th>\n",
              "      <td>1</td>\n",
              "      <td>Spain</td>\n",
              "      <td>Ripe aromas of fig, blackberry and cassis are ...</td>\n",
              "      <td>Carodorum Selección Especial Reserva</td>\n",
              "      <td>96</td>\n",
              "      <td>110.0</td>\n",
              "      <td>Northern Spain</td>\n",
              "      <td>Toro</td>\n",
              "      <td>NaN</td>\n",
              "      <td>Tinta de Toro</td>\n",
              "      <td>Bodega Carmen Rodríguez</td>\n",
              "      <td>ripe aromas fig blackberry cassis softened swe...</td>\n",
              "    </tr>\n",
              "    <tr>\n",
              "      <th>2</th>\n",
              "      <td>2</td>\n",
              "      <td>US</td>\n",
              "      <td>Mac Watson honors the memory of a wine once ma...</td>\n",
              "      <td>Special Selected Late Harvest</td>\n",
              "      <td>96</td>\n",
              "      <td>90.0</td>\n",
              "      <td>California</td>\n",
              "      <td>Knights Valley</td>\n",
              "      <td>Sonoma</td>\n",
              "      <td>Sauvignon Blanc</td>\n",
              "      <td>Macauley</td>\n",
              "      <td>mac watson honors memory wine made mother trem...</td>\n",
              "    </tr>\n",
              "    <tr>\n",
              "      <th>3</th>\n",
              "      <td>3</td>\n",
              "      <td>US</td>\n",
              "      <td>This spent 20 months in 30% new French oak, an...</td>\n",
              "      <td>Reserve</td>\n",
              "      <td>96</td>\n",
              "      <td>65.0</td>\n",
              "      <td>Oregon</td>\n",
              "      <td>Willamette Valley</td>\n",
              "      <td>Willamette Valley</td>\n",
              "      <td>Pinot Noir</td>\n",
              "      <td>Ponzi</td>\n",
              "      <td>spent months new french oak incorporates fruit...</td>\n",
              "    </tr>\n",
              "    <tr>\n",
              "      <th>4</th>\n",
              "      <td>4</td>\n",
              "      <td>France</td>\n",
              "      <td>This is the top wine from La Bégude, named aft...</td>\n",
              "      <td>La Brûlade</td>\n",
              "      <td>95</td>\n",
              "      <td>66.0</td>\n",
              "      <td>Provence</td>\n",
              "      <td>Bandol</td>\n",
              "      <td>NaN</td>\n",
              "      <td>Provence red blend</td>\n",
              "      <td>Domaine de la Bégude</td>\n",
              "      <td>top wine la bégude named highest point vineyar...</td>\n",
              "    </tr>\n",
              "  </tbody>\n",
              "</table>\n",
              "</div>"
            ],
            "text/plain": [
              "   Unnamed: 0 country                                        description  \\\n",
              "0           0      US  This tremendous 100% varietal wine hails from ...   \n",
              "1           1   Spain  Ripe aromas of fig, blackberry and cassis are ...   \n",
              "2           2      US  Mac Watson honors the memory of a wine once ma...   \n",
              "3           3      US  This spent 20 months in 30% new French oak, an...   \n",
              "4           4  France  This is the top wine from La Bégude, named aft...   \n",
              "\n",
              "                            designation  points  price        province  \\\n",
              "0                     Martha's Vineyard      96  235.0      California   \n",
              "1  Carodorum Selección Especial Reserva      96  110.0  Northern Spain   \n",
              "2         Special Selected Late Harvest      96   90.0      California   \n",
              "3                               Reserve      96   65.0          Oregon   \n",
              "4                            La Brûlade      95   66.0        Provence   \n",
              "\n",
              "            region_1           region_2             variety  \\\n",
              "0        Napa Valley               Napa  Cabernet Sauvignon   \n",
              "1               Toro                NaN       Tinta de Toro   \n",
              "2     Knights Valley             Sonoma     Sauvignon Blanc   \n",
              "3  Willamette Valley  Willamette Valley          Pinot Noir   \n",
              "4             Bandol                NaN  Provence red blend   \n",
              "\n",
              "                    winery                                cleaned_description  \n",
              "0                    Heitz  tremendous varietal wine hails oakville aged t...  \n",
              "1  Bodega Carmen Rodríguez  ripe aromas fig blackberry cassis softened swe...  \n",
              "2                 Macauley  mac watson honors memory wine made mother trem...  \n",
              "3                    Ponzi  spent months new french oak incorporates fruit...  \n",
              "4     Domaine de la Bégude  top wine la bégude named highest point vineyar...  "
            ]
          },
          "metadata": {
            "tags": []
          },
          "execution_count": 13
        }
      ]
    },
    {
      "cell_type": "markdown",
      "metadata": {
        "id": "UijWsRBBeXcK",
        "colab_type": "text"
      },
      "source": [
        "## （1）High frequency words in the text"
      ]
    },
    {
      "cell_type": "code",
      "metadata": {
        "id": "JPvVXyoZeQbT",
        "colab_type": "code",
        "colab": {
          "base_uri": "https://localhost:8080/",
          "height": 1133
        },
        "outputId": "f28f0c1a-6e73-49a1-aa8e-b3cfc45edf5b"
      },
      "source": [
        "word_occurrence=train['cleaned_description'].str.split(expand=True).stack().value_counts()\n",
        "word_occurrence"
      ],
      "execution_count": 14,
      "outputs": [
        {
          "output_type": "execute_result",
          "data": {
            "text/plain": [
              "wine              90497\n",
              "flavors           77829\n",
              "fruit             56506\n",
              "finish            37724\n",
              "aromas            35824\n",
              "acidity           32603\n",
              "tannins           32185\n",
              "cherry            30659\n",
              "palate            29011\n",
              "ripe              26720\n",
              "black             24590\n",
              "drink             23630\n",
              "dry               22978\n",
              "spice             22644\n",
              "sweet             21286\n",
              "rich              21172\n",
              "oak               19676\n",
              "notes             19606\n",
              "red               19190\n",
              "soft              17745\n",
              "fresh             17666\n",
              "good              17291\n",
              "berry             17098\n",
              "nose              15888\n",
              "shows             15766\n",
              "blackberry        14948\n",
              "crisp             13960\n",
              "blend             13676\n",
              "vanilla           13312\n",
              "plum              13277\n",
              "                  ...  \n",
              "formless              1\n",
              "boyd                  1\n",
              "tainted               1\n",
              "temptingly            1\n",
              "overdose              1\n",
              "lechet                1\n",
              "blosser               1\n",
              "engelbrecht           1\n",
              "heaty                 1\n",
              "spa                   1\n",
              "aftican               1\n",
              "sooth                 1\n",
              "ferraud               1\n",
              "northward             1\n",
              "cistrus               1\n",
              "shops                 1\n",
              "bungled               1\n",
              "tejada                1\n",
              "amerigo               1\n",
              "klosterneuburg        1\n",
              "basilisco             1\n",
              "bootjack              1\n",
              "chromatic             1\n",
              "steinbeck             1\n",
              "shyer                 1\n",
              "unlocked              1\n",
              "martinet              1\n",
              "handcrafted           1\n",
              "montevetrano          1\n",
              "dupré                 1\n",
              "Length: 29292, dtype: int64"
            ]
          },
          "metadata": {
            "tags": []
          },
          "execution_count": 14
        }
      ]
    },
    {
      "cell_type": "code",
      "metadata": {
        "id": "yTpZk-GwfaqC",
        "colab_type": "code",
        "outputId": "1184f725-5afa-42ee-a59d-79edb9231fb0",
        "colab": {
          "base_uri": "https://localhost:8080/",
          "height": 35
        }
      },
      "source": [
        "# Total number of words\n",
        "total_words=sum(word_occurrence)\n",
        "print(total_words)"
      ],
      "execution_count": 15,
      "outputs": [
        {
          "output_type": "stream",
          "text": [
            "3552938\n"
          ],
          "name": "stdout"
        }
      ]
    },
    {
      "cell_type": "code",
      "metadata": {
        "id": "fpNJ_AGrgtZf",
        "colab_type": "code",
        "outputId": "d4f6009c-7e7b-4b56-8847-09f0a64cf305",
        "colab": {
          "base_uri": "https://localhost:8080/",
          "height": 575
        }
      },
      "source": [
        "# The 30 most common words\n",
        "top_words=word_occurrence[:30]/total_words\n",
        "top_words"
      ],
      "execution_count": 16,
      "outputs": [
        {
          "output_type": "execute_result",
          "data": {
            "text/plain": [
              "wine          0.025471\n",
              "flavors       0.021906\n",
              "fruit         0.015904\n",
              "finish        0.010618\n",
              "aromas        0.010083\n",
              "acidity       0.009176\n",
              "tannins       0.009059\n",
              "cherry        0.008629\n",
              "palate        0.008165\n",
              "ripe          0.007521\n",
              "black         0.006921\n",
              "drink         0.006651\n",
              "dry           0.006467\n",
              "spice         0.006373\n",
              "sweet         0.005991\n",
              "rich          0.005959\n",
              "oak           0.005538\n",
              "notes         0.005518\n",
              "red           0.005401\n",
              "soft          0.004994\n",
              "fresh         0.004972\n",
              "good          0.004867\n",
              "berry         0.004812\n",
              "nose          0.004472\n",
              "shows         0.004437\n",
              "blackberry    0.004207\n",
              "crisp         0.003929\n",
              "blend         0.003849\n",
              "vanilla       0.003747\n",
              "plum          0.003737\n",
              "dtype: float64"
            ]
          },
          "metadata": {
            "tags": []
          },
          "execution_count": 16
        }
      ]
    },
    {
      "cell_type": "code",
      "metadata": {
        "id": "k1PAqzHog7nD",
        "colab_type": "code",
        "outputId": "1890723c-b814-495f-a400-e55722cc3d91",
        "colab": {
          "base_uri": "https://localhost:8080/",
          "height": 501
        }
      },
      "source": [
        "plt.style.use({'figure.figsize':(12, 8)})\n",
        "sns.set(style='whitegrid')\n",
        "\n",
        "ax=sns.barplot(x=top_words.values,y=top_words.index)\n",
        "ax.set_title(\"% Occurrence of Most Frequent Words\")\n",
        "plt.show()"
      ],
      "execution_count": 17,
      "outputs": [
        {
          "output_type": "display_data",
          "data": {
            "image/png": "[encoded data removed]",
            "text/plain": [
              "<Figure size 864x576 with 1 Axes>"
            ]
          },
          "metadata": {
            "tags": []
          }
        }
      ]
    },
    {
      "cell_type": "markdown",
      "metadata": {
        "id": "B_878rp4ixBr",
        "colab_type": "text"
      },
      "source": [
        "## （2）Prices of Reviewed Wine by Country"
      ]
    },
    {
      "cell_type": "code",
      "metadata": {
        "id": "db43ATOehR4t",
        "colab_type": "code",
        "outputId": "0515257f-7117-4ec0-ced3-155b733e2929",
        "colab": {
          "base_uri": "https://localhost:8080/",
          "height": 222
        }
      },
      "source": [
        "prices_by_country=train[['price','country']].dropna(how='any')\n",
        "print(prices_by_country.shape)\n",
        "prices_by_country.head()"
      ],
      "execution_count": 18,
      "outputs": [
        {
          "output_type": "stream",
          "text": [
            "(137230, 2)\n"
          ],
          "name": "stdout"
        },
        {
          "output_type": "execute_result",
          "data": {
            "text/html": [
              "<div>\n",
              "<style scoped>\n",
              "    .dataframe tbody tr th:only-of-type {\n",
              "        vertical-align: middle;\n",
              "    }\n",
              "\n",
              "    .dataframe tbody tr th {\n",
              "        vertical-align: top;\n",
              "    }\n",
              "\n",
              "    .dataframe thead th {\n",
              "        text-align: right;\n",
              "    }\n",
              "</style>\n",
              "<table border=\"1\" class=\"dataframe\">\n",
              "  <thead>\n",
              "    <tr style=\"text-align: right;\">\n",
              "      <th></th>\n",
              "      <th>price</th>\n",
              "      <th>country</th>\n",
              "    </tr>\n",
              "  </thead>\n",
              "  <tbody>\n",
              "    <tr>\n",
              "      <th>0</th>\n",
              "      <td>235.0</td>\n",
              "      <td>US</td>\n",
              "    </tr>\n",
              "    <tr>\n",
              "      <th>1</th>\n",
              "      <td>110.0</td>\n",
              "      <td>Spain</td>\n",
              "    </tr>\n",
              "    <tr>\n",
              "      <th>2</th>\n",
              "      <td>90.0</td>\n",
              "      <td>US</td>\n",
              "    </tr>\n",
              "    <tr>\n",
              "      <th>3</th>\n",
              "      <td>65.0</td>\n",
              "      <td>US</td>\n",
              "    </tr>\n",
              "    <tr>\n",
              "      <th>4</th>\n",
              "      <td>66.0</td>\n",
              "      <td>France</td>\n",
              "    </tr>\n",
              "  </tbody>\n",
              "</table>\n",
              "</div>"
            ],
            "text/plain": [
              "   price country\n",
              "0  235.0      US\n",
              "1  110.0   Spain\n",
              "2   90.0      US\n",
              "3   65.0      US\n",
              "4   66.0  France"
            ]
          },
          "metadata": {
            "tags": []
          },
          "execution_count": 18
        }
      ]
    },
    {
      "cell_type": "code",
      "metadata": {
        "id": "eSvl2-eNjX8O",
        "colab_type": "code",
        "outputId": "189dd379-69e3-4aef-bbca-e68450faf417",
        "colab": {
          "base_uri": "https://localhost:8080/",
          "height": 297
        }
      },
      "source": [
        "prices_by_country.describe()   "
      ],
      "execution_count": 19,
      "outputs": [
        {
          "output_type": "execute_result",
          "data": {
            "text/html": [
              "<div>\n",
              "<style scoped>\n",
              "    .dataframe tbody tr th:only-of-type {\n",
              "        vertical-align: middle;\n",
              "    }\n",
              "\n",
              "    .dataframe tbody tr th {\n",
              "        vertical-align: top;\n",
              "    }\n",
              "\n",
              "    .dataframe thead th {\n",
              "        text-align: right;\n",
              "    }\n",
              "</style>\n",
              "<table border=\"1\" class=\"dataframe\">\n",
              "  <thead>\n",
              "    <tr style=\"text-align: right;\">\n",
              "      <th></th>\n",
              "      <th>price</th>\n",
              "    </tr>\n",
              "  </thead>\n",
              "  <tbody>\n",
              "    <tr>\n",
              "      <th>count</th>\n",
              "      <td>137230.000000</td>\n",
              "    </tr>\n",
              "    <tr>\n",
              "      <th>mean</th>\n",
              "      <td>33.132019</td>\n",
              "    </tr>\n",
              "    <tr>\n",
              "      <th>std</th>\n",
              "      <td>36.323072</td>\n",
              "    </tr>\n",
              "    <tr>\n",
              "      <th>min</th>\n",
              "      <td>4.000000</td>\n",
              "    </tr>\n",
              "    <tr>\n",
              "      <th>25%</th>\n",
              "      <td>16.000000</td>\n",
              "    </tr>\n",
              "    <tr>\n",
              "      <th>50%</th>\n",
              "      <td>24.000000</td>\n",
              "    </tr>\n",
              "    <tr>\n",
              "      <th>75%</th>\n",
              "      <td>40.000000</td>\n",
              "    </tr>\n",
              "    <tr>\n",
              "      <th>max</th>\n",
              "      <td>2300.000000</td>\n",
              "    </tr>\n",
              "  </tbody>\n",
              "</table>\n",
              "</div>"
            ],
            "text/plain": [
              "               price\n",
              "count  137230.000000\n",
              "mean       33.132019\n",
              "std        36.323072\n",
              "min         4.000000\n",
              "25%        16.000000\n",
              "50%        24.000000\n",
              "75%        40.000000\n",
              "max      2300.000000"
            ]
          },
          "metadata": {
            "tags": []
          },
          "execution_count": 19
        }
      ]
    },
    {
      "cell_type": "code",
      "metadata": {
        "id": "WnzcZB_7jp0s",
        "colab_type": "code",
        "outputId": "15d40c68-96f8-4286-c11b-e01bdc7843cd",
        "colab": {
          "base_uri": "https://localhost:8080/",
          "height": 333
        }
      },
      "source": [
        "val=prices_by_country['price'].quantile(0.98)   #Remove all data greater than the 98th percentile\n",
        "print(val)\n",
        "\n",
        "prices_by_country=prices_by_country[prices_by_country['price']<val]\n",
        "print(prices_by_country.shape)\n",
        "prices_by_country.describe()"
      ],
      "execution_count": 20,
      "outputs": [
        {
          "output_type": "stream",
          "text": [
            "120.0\n",
            "(134455, 2)\n"
          ],
          "name": "stdout"
        },
        {
          "output_type": "execute_result",
          "data": {
            "text/html": [
              "<div>\n",
              "<style scoped>\n",
              "    .dataframe tbody tr th:only-of-type {\n",
              "        vertical-align: middle;\n",
              "    }\n",
              "\n",
              "    .dataframe tbody tr th {\n",
              "        vertical-align: top;\n",
              "    }\n",
              "\n",
              "    .dataframe thead th {\n",
              "        text-align: right;\n",
              "    }\n",
              "</style>\n",
              "<table border=\"1\" class=\"dataframe\">\n",
              "  <thead>\n",
              "    <tr style=\"text-align: right;\">\n",
              "      <th></th>\n",
              "      <th>price</th>\n",
              "    </tr>\n",
              "  </thead>\n",
              "  <tbody>\n",
              "    <tr>\n",
              "      <th>count</th>\n",
              "      <td>134455.000000</td>\n",
              "    </tr>\n",
              "    <tr>\n",
              "      <th>mean</th>\n",
              "      <td>29.692246</td>\n",
              "    </tr>\n",
              "    <tr>\n",
              "      <th>std</th>\n",
              "      <td>19.568355</td>\n",
              "    </tr>\n",
              "    <tr>\n",
              "      <th>min</th>\n",
              "      <td>4.000000</td>\n",
              "    </tr>\n",
              "    <tr>\n",
              "      <th>25%</th>\n",
              "      <td>15.000000</td>\n",
              "    </tr>\n",
              "    <tr>\n",
              "      <th>50%</th>\n",
              "      <td>24.000000</td>\n",
              "    </tr>\n",
              "    <tr>\n",
              "      <th>75%</th>\n",
              "      <td>38.000000</td>\n",
              "    </tr>\n",
              "    <tr>\n",
              "      <th>max</th>\n",
              "      <td>119.000000</td>\n",
              "    </tr>\n",
              "  </tbody>\n",
              "</table>\n",
              "</div>"
            ],
            "text/plain": [
              "               price\n",
              "count  134455.000000\n",
              "mean       29.692246\n",
              "std        19.568355\n",
              "min         4.000000\n",
              "25%        15.000000\n",
              "50%        24.000000\n",
              "75%        38.000000\n",
              "max       119.000000"
            ]
          },
          "metadata": {
            "tags": []
          },
          "execution_count": 20
        }
      ]
    },
    {
      "cell_type": "code",
      "metadata": {
        "id": "h7DyfZyQHuo_",
        "colab_type": "code",
        "outputId": "257de5e4-f8f4-4ef8-eff7-c6a49f5b3388",
        "colab": {
          "base_uri": "https://localhost:8080/",
          "height": 204
        }
      },
      "source": [
        "prices_by_country.head()"
      ],
      "execution_count": 21,
      "outputs": [
        {
          "output_type": "execute_result",
          "data": {
            "text/html": [
              "<div>\n",
              "<style scoped>\n",
              "    .dataframe tbody tr th:only-of-type {\n",
              "        vertical-align: middle;\n",
              "    }\n",
              "\n",
              "    .dataframe tbody tr th {\n",
              "        vertical-align: top;\n",
              "    }\n",
              "\n",
              "    .dataframe thead th {\n",
              "        text-align: right;\n",
              "    }\n",
              "</style>\n",
              "<table border=\"1\" class=\"dataframe\">\n",
              "  <thead>\n",
              "    <tr style=\"text-align: right;\">\n",
              "      <th></th>\n",
              "      <th>price</th>\n",
              "      <th>country</th>\n",
              "    </tr>\n",
              "  </thead>\n",
              "  <tbody>\n",
              "    <tr>\n",
              "      <th>1</th>\n",
              "      <td>110.0</td>\n",
              "      <td>Spain</td>\n",
              "    </tr>\n",
              "    <tr>\n",
              "      <th>2</th>\n",
              "      <td>90.0</td>\n",
              "      <td>US</td>\n",
              "    </tr>\n",
              "    <tr>\n",
              "      <th>3</th>\n",
              "      <td>65.0</td>\n",
              "      <td>US</td>\n",
              "    </tr>\n",
              "    <tr>\n",
              "      <th>4</th>\n",
              "      <td>66.0</td>\n",
              "      <td>France</td>\n",
              "    </tr>\n",
              "    <tr>\n",
              "      <th>5</th>\n",
              "      <td>73.0</td>\n",
              "      <td>Spain</td>\n",
              "    </tr>\n",
              "  </tbody>\n",
              "</table>\n",
              "</div>"
            ],
            "text/plain": [
              "   price country\n",
              "1  110.0   Spain\n",
              "2   90.0      US\n",
              "3   65.0      US\n",
              "4   66.0  France\n",
              "5   73.0   Spain"
            ]
          },
          "metadata": {
            "tags": []
          },
          "execution_count": 21
        }
      ]
    },
    {
      "cell_type": "code",
      "metadata": {
        "id": "tMC3bRAJFfop",
        "colab_type": "code",
        "outputId": "373cb266-3a5a-4ccf-e8d5-643cfa4d4d7e",
        "colab": {
          "base_uri": "https://localhost:8080/",
          "height": 204
        }
      },
      "source": [
        "prices_by_country=prices_by_country.groupby('country').filter(lambda x:(x['price'].count()>=100))\n",
        "prices_by_country.head()"
      ],
      "execution_count": 22,
      "outputs": [
        {
          "output_type": "execute_result",
          "data": {
            "text/html": [
              "<div>\n",
              "<style scoped>\n",
              "    .dataframe tbody tr th:only-of-type {\n",
              "        vertical-align: middle;\n",
              "    }\n",
              "\n",
              "    .dataframe tbody tr th {\n",
              "        vertical-align: top;\n",
              "    }\n",
              "\n",
              "    .dataframe thead th {\n",
              "        text-align: right;\n",
              "    }\n",
              "</style>\n",
              "<table border=\"1\" class=\"dataframe\">\n",
              "  <thead>\n",
              "    <tr style=\"text-align: right;\">\n",
              "      <th></th>\n",
              "      <th>price</th>\n",
              "      <th>country</th>\n",
              "    </tr>\n",
              "  </thead>\n",
              "  <tbody>\n",
              "    <tr>\n",
              "      <th>1</th>\n",
              "      <td>110.0</td>\n",
              "      <td>Spain</td>\n",
              "    </tr>\n",
              "    <tr>\n",
              "      <th>2</th>\n",
              "      <td>90.0</td>\n",
              "      <td>US</td>\n",
              "    </tr>\n",
              "    <tr>\n",
              "      <th>3</th>\n",
              "      <td>65.0</td>\n",
              "      <td>US</td>\n",
              "    </tr>\n",
              "    <tr>\n",
              "      <th>4</th>\n",
              "      <td>66.0</td>\n",
              "      <td>France</td>\n",
              "    </tr>\n",
              "    <tr>\n",
              "      <th>5</th>\n",
              "      <td>73.0</td>\n",
              "      <td>Spain</td>\n",
              "    </tr>\n",
              "  </tbody>\n",
              "</table>\n",
              "</div>"
            ],
            "text/plain": [
              "   price country\n",
              "1  110.0   Spain\n",
              "2   90.0      US\n",
              "3   65.0      US\n",
              "4   66.0  France\n",
              "5   73.0   Spain"
            ]
          },
          "metadata": {
            "tags": []
          },
          "execution_count": 22
        }
      ]
    },
    {
      "cell_type": "code",
      "metadata": {
        "id": "EAXTCbPTJnuL",
        "colab_type": "code",
        "outputId": "4b5fb578-d070-425b-ee57-f4ec0b903073",
        "colab": {
          "base_uri": "https://localhost:8080/",
          "height": 567
        }
      },
      "source": [
        "# Boxplot\n",
        "\n",
        "ax=sns.boxplot(x='country',y='price',data=prices_by_country)\n",
        "# Setting title \n",
        "ax.set_title(\"Wine Prices by Country\")\n",
        "\n",
        "# Assuming prices are in USD since its an American website\n",
        "ax.set(xlabel = \"Origin Country\", ylabel = \"Price in USD\")\n",
        "\n",
        "# Making sure ticks aren't overlapping\n",
        "ax.set_xticklabels(ax.get_xticklabels(),rotation=45,ha=\"right\",rotation_mode='anchor')\n",
        "\n",
        "plt.show()"
      ],
      "execution_count": 23,
      "outputs": [
        {
          "output_type": "display_data",
          "data": {
            "image/png": "[encoded data removed]",
            "text/plain": [
              "<Figure size 864x576 with 1 Axes>"
            ]
          },
          "metadata": {
            "tags": []
          }
        }
      ]
    },
    {
      "cell_type": "markdown",
      "metadata": {
        "id": "v4ukvHNGLQeY",
        "colab_type": "text"
      },
      "source": [
        "## （3）Prices of Reviewed Wine by Variety"
      ]
    },
    {
      "cell_type": "code",
      "metadata": {
        "id": "LMD4RZiZKrHT",
        "colab_type": "code",
        "outputId": "5df02b38-4172-4a79-ab1a-a3c9ca9f2cf2",
        "colab": {
          "base_uri": "https://localhost:8080/",
          "height": 630
        }
      },
      "source": [
        "prices_by_variety = train[[\"price\", \"variety\"]].dropna(how = \"any\")\n",
        "\n",
        "# Remove all data greater than the 98th percentile\n",
        "val = prices_by_variety[\"price\"].quantile(0.98)\n",
        "prices_by_variety = prices_by_variety[prices_by_variety[\"price\"] < val]\n",
        "\n",
        "# Only consider varieties where at least 500 wines have been reviewed\n",
        "prices_by_variety = prices_by_variety.groupby(\"variety\").filter(lambda x: (x[\"price\"].count() >= 500))\n",
        "\n",
        "# Creating a boxplot\n",
        "ax = sns.boxplot(x=\"variety\", y = \"price\", data=prices_by_variety)\n",
        "\n",
        "# Setting title \n",
        "ax.set_title(\"Wine Prices by Variety\")\n",
        "\n",
        "# Assuming prices are in USD since its an American website\n",
        "ax.set(xlabel = \"Origin Country\", ylabel = \"Price in USD\")\n",
        "\n",
        "# Making sure ticks aren't overlapping\n",
        "ax.set_xticklabels(ax.get_xticklabels(),rotation=45,ha=\"right\",rotation_mode='anchor')\n",
        "\n",
        "plt.show()"
      ],
      "execution_count": 24,
      "outputs": [
        {
          "output_type": "display_data",
          "data": {
            "image/png": "[encoded data removed]",
            "text/plain": [
              "<Figure size 864x576 with 1 Axes>"
            ]
          },
          "metadata": {
            "tags": []
          }
        }
      ]
    },
    {
      "cell_type": "markdown",
      "metadata": {
        "id": "U5W0qSBlNQX3",
        "colab_type": "text"
      },
      "source": [
        "## （4）Ratings versus Price\n",
        "There appears to be a correlation between rating and price"
      ]
    },
    {
      "cell_type": "code",
      "metadata": {
        "id": "thsALD70NLbo",
        "colab_type": "code",
        "outputId": "60b8e637-d236-472b-ddcd-7d7c0bed48f0",
        "colab": {
          "base_uri": "https://localhost:8080/",
          "height": 204
        }
      },
      "source": [
        "ratings_by_price=train[['price','points']]\n",
        "ratings_by_price.head()"
      ],
      "execution_count": 25,
      "outputs": [
        {
          "output_type": "execute_result",
          "data": {
            "text/html": [
              "<div>\n",
              "<style scoped>\n",
              "    .dataframe tbody tr th:only-of-type {\n",
              "        vertical-align: middle;\n",
              "    }\n",
              "\n",
              "    .dataframe tbody tr th {\n",
              "        vertical-align: top;\n",
              "    }\n",
              "\n",
              "    .dataframe thead th {\n",
              "        text-align: right;\n",
              "    }\n",
              "</style>\n",
              "<table border=\"1\" class=\"dataframe\">\n",
              "  <thead>\n",
              "    <tr style=\"text-align: right;\">\n",
              "      <th></th>\n",
              "      <th>price</th>\n",
              "      <th>points</th>\n",
              "    </tr>\n",
              "  </thead>\n",
              "  <tbody>\n",
              "    <tr>\n",
              "      <th>0</th>\n",
              "      <td>235.0</td>\n",
              "      <td>96</td>\n",
              "    </tr>\n",
              "    <tr>\n",
              "      <th>1</th>\n",
              "      <td>110.0</td>\n",
              "      <td>96</td>\n",
              "    </tr>\n",
              "    <tr>\n",
              "      <th>2</th>\n",
              "      <td>90.0</td>\n",
              "      <td>96</td>\n",
              "    </tr>\n",
              "    <tr>\n",
              "      <th>3</th>\n",
              "      <td>65.0</td>\n",
              "      <td>96</td>\n",
              "    </tr>\n",
              "    <tr>\n",
              "      <th>4</th>\n",
              "      <td>66.0</td>\n",
              "      <td>95</td>\n",
              "    </tr>\n",
              "  </tbody>\n",
              "</table>\n",
              "</div>"
            ],
            "text/plain": [
              "   price  points\n",
              "0  235.0      96\n",
              "1  110.0      96\n",
              "2   90.0      96\n",
              "3   65.0      96\n",
              "4   66.0      95"
            ]
          },
          "metadata": {
            "tags": []
          },
          "execution_count": 25
        }
      ]
    },
    {
      "cell_type": "code",
      "metadata": {
        "id": "3BT_W0ATOEwW",
        "colab_type": "code",
        "colab": {}
      },
      "source": [
        "val = ratings_by_price[\"price\"].quantile(0.98)\n",
        "ratings_by_price = ratings_by_price[ratings_by_price[\"price\"] < val]"
      ],
      "execution_count": 0,
      "outputs": []
    },
    {
      "cell_type": "code",
      "metadata": {
        "id": "emm0fxyqNor7",
        "colab_type": "code",
        "outputId": "d04c2a88-48a9-4d8e-eaf1-f7ec2f80f77b",
        "colab": {
          "base_uri": "https://localhost:8080/",
          "height": 365
        }
      },
      "source": [
        "ax=sns.lmplot(x='price',y='points',data=ratings_by_price)\n",
        "# Assuming prices are in USD since its an American website\n",
        "ax.set(xlabel = \"Price in USD\", ylabel = \"Wine Rating\")\n",
        "\n",
        "plt.show()"
      ],
      "execution_count": 27,
      "outputs": [
        {
          "output_type": "display_data",
          "data": {
            "image/png": "[encoded data removed]",
            "text/plain": [
              "<Figure size 360x360 with 1 Axes>"
            ]
          },
          "metadata": {
            "tags": []
          }
        }
      ]
    },
    {
      "cell_type": "markdown",
      "metadata": {
        "id": "X_2RSNwEObsx",
        "colab_type": "text"
      },
      "source": [
        "# Predicting Wine Scores from Text Descriptions\n",
        "Classic: 98-100\n",
        "\n",
        "Superb: 94-97\n",
        "\n",
        "Excellent: 90-93\n",
        "\n",
        "Very Good: 87-89\n",
        "\n",
        "Good: 83-86\n",
        "\n",
        "Acceptable: 80-82"
      ]
    },
    {
      "cell_type": "code",
      "metadata": {
        "id": "mz70NzvKN3dR",
        "colab_type": "code",
        "colab": {
          "base_uri": "https://localhost:8080/",
          "height": 35
        },
        "outputId": "3f9a4870-6145-499a-d188-eda0a358e37d"
      },
      "source": [
        "from keras.models import Model,load_model\n",
        "from keras.layers import Dense,Embedding,Input,Activation,CuDNNGRU,Bidirectional,Dropout,GlobalMaxPooling1D\n",
        "from keras.preprocessing.text import Tokenizer\n",
        "from keras.preprocessing.sequence import pad_sequences\n",
        "from keras.callbacks import EarlyStopping,ModelCheckpoint,Callback"
      ],
      "execution_count": 28,
      "outputs": [
        {
          "output_type": "stream",
          "text": [
            "Using TensorFlow backend.\n"
          ],
          "name": "stderr"
        }
      ]
    },
    {
      "cell_type": "markdown",
      "metadata": {
        "id": "yArOY2NfPpjI",
        "colab_type": "text"
      },
      "source": [
        "## Step 1.Preparing Data for Classification"
      ]
    },
    {
      "cell_type": "code",
      "metadata": {
        "id": "so5uf19mPmwM",
        "colab_type": "code",
        "outputId": "2386debc-3b7c-4088-ddb7-d8c5e422389f",
        "colab": {
          "base_uri": "https://localhost:8080/",
          "height": 306
        }
      },
      "source": [
        "# Converting Points to Classes \n",
        "\n",
        "def points_to_class(points):\n",
        "  if points in range(80,83):\n",
        "    return 0\n",
        "  elif points in range(83,87):\n",
        "    return 1\n",
        "  elif points in range(87,90):\n",
        "    return 2\n",
        "  elif points in range(90,94):\n",
        "    return 3\n",
        "  elif points in range(94,98):\n",
        "    return 4\n",
        "  else:\n",
        "    return 5\n",
        "  \n",
        "train['rating']=train['points'].apply(points_to_class)\n",
        "train.head()"
      ],
      "execution_count": 29,
      "outputs": [
        {
          "output_type": "execute_result",
          "data": {
            "text/html": [
              "<div>\n",
              "<style scoped>\n",
              "    .dataframe tbody tr th:only-of-type {\n",
              "        vertical-align: middle;\n",
              "    }\n",
              "\n",
              "    .dataframe tbody tr th {\n",
              "        vertical-align: top;\n",
              "    }\n",
              "\n",
              "    .dataframe thead th {\n",
              "        text-align: right;\n",
              "    }\n",
              "</style>\n",
              "<table border=\"1\" class=\"dataframe\">\n",
              "  <thead>\n",
              "    <tr style=\"text-align: right;\">\n",
              "      <th></th>\n",
              "      <th>Unnamed: 0</th>\n",
              "      <th>country</th>\n",
              "      <th>description</th>\n",
              "      <th>designation</th>\n",
              "      <th>points</th>\n",
              "      <th>price</th>\n",
              "      <th>province</th>\n",
              "      <th>region_1</th>\n",
              "      <th>region_2</th>\n",
              "      <th>variety</th>\n",
              "      <th>winery</th>\n",
              "      <th>cleaned_description</th>\n",
              "      <th>rating</th>\n",
              "    </tr>\n",
              "  </thead>\n",
              "  <tbody>\n",
              "    <tr>\n",
              "      <th>0</th>\n",
              "      <td>0</td>\n",
              "      <td>US</td>\n",
              "      <td>This tremendous 100% varietal wine hails from ...</td>\n",
              "      <td>Martha's Vineyard</td>\n",
              "      <td>96</td>\n",
              "      <td>235.0</td>\n",
              "      <td>California</td>\n",
              "      <td>Napa Valley</td>\n",
              "      <td>Napa</td>\n",
              "      <td>Cabernet Sauvignon</td>\n",
              "      <td>Heitz</td>\n",
              "      <td>tremendous varietal wine hails oakville aged t...</td>\n",
              "      <td>4</td>\n",
              "    </tr>\n",
              "    <tr>\n",
              "      <th>1</th>\n",
              "      <td>1</td>\n",
              "      <td>Spain</td>\n",
              "      <td>Ripe aromas of fig, blackberry and cassis are ...</td>\n",
              "      <td>Carodorum Selección Especial Reserva</td>\n",
              "      <td>96</td>\n",
              "      <td>110.0</td>\n",
              "      <td>Northern Spain</td>\n",
              "      <td>Toro</td>\n",
              "      <td>NaN</td>\n",
              "      <td>Tinta de Toro</td>\n",
              "      <td>Bodega Carmen Rodríguez</td>\n",
              "      <td>ripe aromas fig blackberry cassis softened swe...</td>\n",
              "      <td>4</td>\n",
              "    </tr>\n",
              "    <tr>\n",
              "      <th>2</th>\n",
              "      <td>2</td>\n",
              "      <td>US</td>\n",
              "      <td>Mac Watson honors the memory of a wine once ma...</td>\n",
              "      <td>Special Selected Late Harvest</td>\n",
              "      <td>96</td>\n",
              "      <td>90.0</td>\n",
              "      <td>California</td>\n",
              "      <td>Knights Valley</td>\n",
              "      <td>Sonoma</td>\n",
              "      <td>Sauvignon Blanc</td>\n",
              "      <td>Macauley</td>\n",
              "      <td>mac watson honors memory wine made mother trem...</td>\n",
              "      <td>4</td>\n",
              "    </tr>\n",
              "    <tr>\n",
              "      <th>3</th>\n",
              "      <td>3</td>\n",
              "      <td>US</td>\n",
              "      <td>This spent 20 months in 30% new French oak, an...</td>\n",
              "      <td>Reserve</td>\n",
              "      <td>96</td>\n",
              "      <td>65.0</td>\n",
              "      <td>Oregon</td>\n",
              "      <td>Willamette Valley</td>\n",
              "      <td>Willamette Valley</td>\n",
              "      <td>Pinot Noir</td>\n",
              "      <td>Ponzi</td>\n",
              "      <td>spent months new french oak incorporates fruit...</td>\n",
              "      <td>4</td>\n",
              "    </tr>\n",
              "    <tr>\n",
              "      <th>4</th>\n",
              "      <td>4</td>\n",
              "      <td>France</td>\n",
              "      <td>This is the top wine from La Bégude, named aft...</td>\n",
              "      <td>La Brûlade</td>\n",
              "      <td>95</td>\n",
              "      <td>66.0</td>\n",
              "      <td>Provence</td>\n",
              "      <td>Bandol</td>\n",
              "      <td>NaN</td>\n",
              "      <td>Provence red blend</td>\n",
              "      <td>Domaine de la Bégude</td>\n",
              "      <td>top wine la bégude named highest point vineyar...</td>\n",
              "      <td>4</td>\n",
              "    </tr>\n",
              "  </tbody>\n",
              "</table>\n",
              "</div>"
            ],
            "text/plain": [
              "   Unnamed: 0 country                                        description  \\\n",
              "0           0      US  This tremendous 100% varietal wine hails from ...   \n",
              "1           1   Spain  Ripe aromas of fig, blackberry and cassis are ...   \n",
              "2           2      US  Mac Watson honors the memory of a wine once ma...   \n",
              "3           3      US  This spent 20 months in 30% new French oak, an...   \n",
              "4           4  France  This is the top wine from La Bégude, named aft...   \n",
              "\n",
              "                            designation  points  price        province  \\\n",
              "0                     Martha's Vineyard      96  235.0      California   \n",
              "1  Carodorum Selección Especial Reserva      96  110.0  Northern Spain   \n",
              "2         Special Selected Late Harvest      96   90.0      California   \n",
              "3                               Reserve      96   65.0          Oregon   \n",
              "4                            La Brûlade      95   66.0        Provence   \n",
              "\n",
              "            region_1           region_2             variety  \\\n",
              "0        Napa Valley               Napa  Cabernet Sauvignon   \n",
              "1               Toro                NaN       Tinta de Toro   \n",
              "2     Knights Valley             Sonoma     Sauvignon Blanc   \n",
              "3  Willamette Valley  Willamette Valley          Pinot Noir   \n",
              "4             Bandol                NaN  Provence red blend   \n",
              "\n",
              "                    winery                                cleaned_description  \\\n",
              "0                    Heitz  tremendous varietal wine hails oakville aged t...   \n",
              "1  Bodega Carmen Rodríguez  ripe aromas fig blackberry cassis softened swe...   \n",
              "2                 Macauley  mac watson honors memory wine made mother trem...   \n",
              "3                    Ponzi  spent months new french oak incorporates fruit...   \n",
              "4     Domaine de la Bégude  top wine la bégude named highest point vineyar...   \n",
              "\n",
              "   rating  \n",
              "0       4  \n",
              "1       4  \n",
              "2       4  \n",
              "3       4  \n",
              "4       4  "
            ]
          },
          "metadata": {
            "tags": []
          },
          "execution_count": 29
        }
      ]
    },
    {
      "cell_type": "code",
      "metadata": {
        "id": "ckH4piFcQ1U1",
        "colab_type": "code",
        "outputId": "2ecd66b4-58bb-4ce4-b6b1-a7b7ea50477f",
        "colab": {
          "base_uri": "https://localhost:8080/",
          "height": 143
        }
      },
      "source": [
        "train['rating'].value_counts()"
      ],
      "execution_count": 30,
      "outputs": [
        {
          "output_type": "execute_result",
          "data": {
            "text/plain": [
              "2    51539\n",
              "1    44740\n",
              "3    41767\n",
              "0     6441\n",
              "4     6238\n",
              "5      205\n",
              "Name: rating, dtype: int64"
            ]
          },
          "metadata": {
            "tags": []
          },
          "execution_count": 30
        }
      ]
    },
    {
      "cell_type": "code",
      "metadata": {
        "id": "BXs3GZODQ8ok",
        "colab_type": "code",
        "outputId": "312b4679-b8e9-4e45-eed6-bd676f2dad57",
        "colab": {
          "base_uri": "https://localhost:8080/",
          "height": 306
        }
      },
      "source": [
        "# Unfortunately, our data is not very balanced.Combining Class 4 and 5 together as the new Class 4. Any reviews in the range or 94–100 points will fall under this class.\n",
        "\n",
        "def points_to_class(points):\n",
        "  if points in range(80,83):\n",
        "    return 0\n",
        "  elif points in range(83,87):\n",
        "    return 1\n",
        "  elif points in range(87,90):\n",
        "    return 2\n",
        "  elif points in range(90,94):\n",
        "    return 3\n",
        "  else:\n",
        "    return 4\n",
        "  \n",
        "train['rating']=train['points'].apply(points_to_class)\n",
        "train.head()"
      ],
      "execution_count": 31,
      "outputs": [
        {
          "output_type": "execute_result",
          "data": {
            "text/html": [
              "<div>\n",
              "<style scoped>\n",
              "    .dataframe tbody tr th:only-of-type {\n",
              "        vertical-align: middle;\n",
              "    }\n",
              "\n",
              "    .dataframe tbody tr th {\n",
              "        vertical-align: top;\n",
              "    }\n",
              "\n",
              "    .dataframe thead th {\n",
              "        text-align: right;\n",
              "    }\n",
              "</style>\n",
              "<table border=\"1\" class=\"dataframe\">\n",
              "  <thead>\n",
              "    <tr style=\"text-align: right;\">\n",
              "      <th></th>\n",
              "      <th>Unnamed: 0</th>\n",
              "      <th>country</th>\n",
              "      <th>description</th>\n",
              "      <th>designation</th>\n",
              "      <th>points</th>\n",
              "      <th>price</th>\n",
              "      <th>province</th>\n",
              "      <th>region_1</th>\n",
              "      <th>region_2</th>\n",
              "      <th>variety</th>\n",
              "      <th>winery</th>\n",
              "      <th>cleaned_description</th>\n",
              "      <th>rating</th>\n",
              "    </tr>\n",
              "  </thead>\n",
              "  <tbody>\n",
              "    <tr>\n",
              "      <th>0</th>\n",
              "      <td>0</td>\n",
              "      <td>US</td>\n",
              "      <td>This tremendous 100% varietal wine hails from ...</td>\n",
              "      <td>Martha's Vineyard</td>\n",
              "      <td>96</td>\n",
              "      <td>235.0</td>\n",
              "      <td>California</td>\n",
              "      <td>Napa Valley</td>\n",
              "      <td>Napa</td>\n",
              "      <td>Cabernet Sauvignon</td>\n",
              "      <td>Heitz</td>\n",
              "      <td>tremendous varietal wine hails oakville aged t...</td>\n",
              "      <td>4</td>\n",
              "    </tr>\n",
              "    <tr>\n",
              "      <th>1</th>\n",
              "      <td>1</td>\n",
              "      <td>Spain</td>\n",
              "      <td>Ripe aromas of fig, blackberry and cassis are ...</td>\n",
              "      <td>Carodorum Selección Especial Reserva</td>\n",
              "      <td>96</td>\n",
              "      <td>110.0</td>\n",
              "      <td>Northern Spain</td>\n",
              "      <td>Toro</td>\n",
              "      <td>NaN</td>\n",
              "      <td>Tinta de Toro</td>\n",
              "      <td>Bodega Carmen Rodríguez</td>\n",
              "      <td>ripe aromas fig blackberry cassis softened swe...</td>\n",
              "      <td>4</td>\n",
              "    </tr>\n",
              "    <tr>\n",
              "      <th>2</th>\n",
              "      <td>2</td>\n",
              "      <td>US</td>\n",
              "      <td>Mac Watson honors the memory of a wine once ma...</td>\n",
              "      <td>Special Selected Late Harvest</td>\n",
              "      <td>96</td>\n",
              "      <td>90.0</td>\n",
              "      <td>California</td>\n",
              "      <td>Knights Valley</td>\n",
              "      <td>Sonoma</td>\n",
              "      <td>Sauvignon Blanc</td>\n",
              "      <td>Macauley</td>\n",
              "      <td>mac watson honors memory wine made mother trem...</td>\n",
              "      <td>4</td>\n",
              "    </tr>\n",
              "    <tr>\n",
              "      <th>3</th>\n",
              "      <td>3</td>\n",
              "      <td>US</td>\n",
              "      <td>This spent 20 months in 30% new French oak, an...</td>\n",
              "      <td>Reserve</td>\n",
              "      <td>96</td>\n",
              "      <td>65.0</td>\n",
              "      <td>Oregon</td>\n",
              "      <td>Willamette Valley</td>\n",
              "      <td>Willamette Valley</td>\n",
              "      <td>Pinot Noir</td>\n",
              "      <td>Ponzi</td>\n",
              "      <td>spent months new french oak incorporates fruit...</td>\n",
              "      <td>4</td>\n",
              "    </tr>\n",
              "    <tr>\n",
              "      <th>4</th>\n",
              "      <td>4</td>\n",
              "      <td>France</td>\n",
              "      <td>This is the top wine from La Bégude, named aft...</td>\n",
              "      <td>La Brûlade</td>\n",
              "      <td>95</td>\n",
              "      <td>66.0</td>\n",
              "      <td>Provence</td>\n",
              "      <td>Bandol</td>\n",
              "      <td>NaN</td>\n",
              "      <td>Provence red blend</td>\n",
              "      <td>Domaine de la Bégude</td>\n",
              "      <td>top wine la bégude named highest point vineyar...</td>\n",
              "      <td>4</td>\n",
              "    </tr>\n",
              "  </tbody>\n",
              "</table>\n",
              "</div>"
            ],
            "text/plain": [
              "   Unnamed: 0 country                                        description  \\\n",
              "0           0      US  This tremendous 100% varietal wine hails from ...   \n",
              "1           1   Spain  Ripe aromas of fig, blackberry and cassis are ...   \n",
              "2           2      US  Mac Watson honors the memory of a wine once ma...   \n",
              "3           3      US  This spent 20 months in 30% new French oak, an...   \n",
              "4           4  France  This is the top wine from La Bégude, named aft...   \n",
              "\n",
              "                            designation  points  price        province  \\\n",
              "0                     Martha's Vineyard      96  235.0      California   \n",
              "1  Carodorum Selección Especial Reserva      96  110.0  Northern Spain   \n",
              "2         Special Selected Late Harvest      96   90.0      California   \n",
              "3                               Reserve      96   65.0          Oregon   \n",
              "4                            La Brûlade      95   66.0        Provence   \n",
              "\n",
              "            region_1           region_2             variety  \\\n",
              "0        Napa Valley               Napa  Cabernet Sauvignon   \n",
              "1               Toro                NaN       Tinta de Toro   \n",
              "2     Knights Valley             Sonoma     Sauvignon Blanc   \n",
              "3  Willamette Valley  Willamette Valley          Pinot Noir   \n",
              "4             Bandol                NaN  Provence red blend   \n",
              "\n",
              "                    winery                                cleaned_description  \\\n",
              "0                    Heitz  tremendous varietal wine hails oakville aged t...   \n",
              "1  Bodega Carmen Rodríguez  ripe aromas fig blackberry cassis softened swe...   \n",
              "2                 Macauley  mac watson honors memory wine made mother trem...   \n",
              "3                    Ponzi  spent months new french oak incorporates fruit...   \n",
              "4     Domaine de la Bégude  top wine la bégude named highest point vineyar...   \n",
              "\n",
              "   rating  \n",
              "0       4  \n",
              "1       4  \n",
              "2       4  \n",
              "3       4  \n",
              "4       4  "
            ]
          },
          "metadata": {
            "tags": []
          },
          "execution_count": 31
        }
      ]
    },
    {
      "cell_type": "code",
      "metadata": {
        "id": "NoN04toOUBwG",
        "colab_type": "code",
        "outputId": "92798d68-70fe-424a-aaa3-90462a8a65f7",
        "colab": {
          "base_uri": "https://localhost:8080/",
          "height": 341
        }
      },
      "source": [
        "train.info()"
      ],
      "execution_count": 32,
      "outputs": [
        {
          "output_type": "stream",
          "text": [
            "<class 'pandas.core.frame.DataFrame'>\n",
            "RangeIndex: 150930 entries, 0 to 150929\n",
            "Data columns (total 13 columns):\n",
            "Unnamed: 0             150930 non-null int64\n",
            "country                150925 non-null object\n",
            "description            150930 non-null object\n",
            "designation            105195 non-null object\n",
            "points                 150930 non-null int64\n",
            "price                  137235 non-null float64\n",
            "province               150925 non-null object\n",
            "region_1               125870 non-null object\n",
            "region_2               60953 non-null object\n",
            "variety                150930 non-null object\n",
            "winery                 150930 non-null object\n",
            "cleaned_description    150930 non-null object\n",
            "rating                 150930 non-null int64\n",
            "dtypes: float64(1), int64(3), object(9)\n",
            "memory usage: 15.0+ MB\n"
          ],
          "name": "stdout"
        }
      ]
    },
    {
      "cell_type": "code",
      "metadata": {
        "id": "AOgsCUMcRzlp",
        "colab_type": "code",
        "outputId": "9f5bcabe-76c0-40b8-aedc-904066ac3f08",
        "colab": {
          "base_uri": "https://localhost:8080/",
          "height": 125
        }
      },
      "source": [
        "train['rating'].value_counts()"
      ],
      "execution_count": 33,
      "outputs": [
        {
          "output_type": "execute_result",
          "data": {
            "text/plain": [
              "2    51539\n",
              "1    44740\n",
              "3    41767\n",
              "4     6443\n",
              "0     6441\n",
              "Name: rating, dtype: int64"
            ]
          },
          "metadata": {
            "tags": []
          },
          "execution_count": 33
        }
      ]
    },
    {
      "cell_type": "code",
      "metadata": {
        "id": "HRIbbV_uR2KL",
        "colab_type": "code",
        "colab": {}
      },
      "source": [
        "# Fixed parameters\n",
        "\n",
        "num_classes = 5\n",
        "embedding_dim = 300 \n",
        "epochs = 50\n",
        "batch_size = 128\n",
        "max_len = 100\n",
        "\n",
        "# 类别权重\n",
        "class_weights = {0: 7,\n",
        "                1: 1,\n",
        "                2: 1, \n",
        "                3: 1,\n",
        "                4: 7}"
      ],
      "execution_count": 0,
      "outputs": []
    },
    {
      "cell_type": "code",
      "metadata": {
        "id": "Nc_FkcDrST1c",
        "colab_type": "code",
        "colab": {}
      },
      "source": [
        "# Onehot encoding target\n",
        "\n",
        "def onehot(arr,num_classes):\n",
        "  return np.eye(num_classes)[np.array(arr.astype(int)).reshape(-1)]\n",
        "\n",
        "y=onehot(train['rating'],num_classes)"
      ],
      "execution_count": 0,
      "outputs": []
    },
    {
      "cell_type": "code",
      "metadata": {
        "id": "onOqJi9-UMv8",
        "colab_type": "code",
        "outputId": "55f13675-beb4-4180-abe2-5ea23486423a",
        "colab": {
          "base_uri": "https://localhost:8080/",
          "height": 161
        }
      },
      "source": [
        "print(y.shape)\n",
        "y"
      ],
      "execution_count": 36,
      "outputs": [
        {
          "output_type": "stream",
          "text": [
            "(150930, 5)\n"
          ],
          "name": "stdout"
        },
        {
          "output_type": "execute_result",
          "data": {
            "text/plain": [
              "array([[0., 0., 0., 0., 1.],\n",
              "       [0., 0., 0., 0., 1.],\n",
              "       [0., 0., 0., 0., 1.],\n",
              "       ...,\n",
              "       [0., 0., 0., 1., 0.],\n",
              "       [0., 0., 0., 1., 0.],\n",
              "       [0., 0., 0., 1., 0.]])"
            ]
          },
          "metadata": {
            "tags": []
          },
          "execution_count": 36
        }
      ]
    },
    {
      "cell_type": "code",
      "metadata": {
        "id": "CFMni8rdUXxx",
        "colab_type": "code",
        "colab": {}
      },
      "source": [
        "# Train-Validation Split\n",
        "\n",
        "from sklearn.model_selection import train_test_split\n",
        "\n",
        "X_train,X_val,y_train,y_val=train_test_split(train['description'],y,test_size=0.05)"
      ],
      "execution_count": 0,
      "outputs": []
    },
    {
      "cell_type": "markdown",
      "metadata": {
        "id": "UyFDFgOKVHmh",
        "colab_type": "text"
      },
      "source": [
        "## （2）Tokenizing Inputs and Preparing the Embedding Matrix\n",
        "Several pre-trained GloVe word vectors can be downloaded https://nlp.stanford.edu/projects/glove/"
      ]
    },
    {
      "cell_type": "code",
      "metadata": {
        "id": "lRnq6T5HVFfN",
        "colab_type": "code",
        "colab": {}
      },
      "source": [
        "!wget http://nlp.stanford.edu/data/glove.840B.300d.zip"
      ],
      "execution_count": 0,
      "outputs": []
    },
    {
      "cell_type": "code",
      "metadata": {
        "id": "0FJOnVpWVqFy",
        "colab_type": "code",
        "colab": {}
      },
      "source": [
        "!unzip glove.840B.300d.zip"
      ],
      "execution_count": 0,
      "outputs": []
    },
    {
      "cell_type": "code",
      "metadata": {
        "id": "OEnAmH_VYNf0",
        "colab_type": "code",
        "colab": {}
      },
      "source": [
        "embeddings_index={}\n",
        "\n",
        "f=open('glove.840B.300d.txt',encoding='utf-8')\n",
        "\n",
        "for line in f:\n",
        "  values=line.split()\n",
        "  word=''.join(values[:-embedding_dim])\n",
        "  coefs=np.asarray(values[-embedding_dim:],dtype='float32')\n",
        "  embeddings_index[word]=coefs\n",
        "f.close()"
      ],
      "execution_count": 0,
      "outputs": []
    },
    {
      "cell_type": "code",
      "metadata": {
        "id": "NDDfaP8XcCaa",
        "colab_type": "code",
        "colab": {}
      },
      "source": [
        "# train tokenizer (only on training set)\n",
        "tokenizer=Tokenizer(num_words=None)\n",
        "tokenizer.fit_on_texts(X_train)\n",
        "\n",
        "# fit tokenizer on training set\n",
        "sequences_train=tokenizer.texts_to_sequences(X_train)\n",
        "X_train=pad_sequences(sequences_train,maxlen=max_len)\n",
        "\n",
        "# fit tokenizer on testing set\n",
        "sequences_val = tokenizer.texts_to_sequences(X_val)\n",
        "X_val = pad_sequences(sequences_val, maxlen = max_len)"
      ],
      "execution_count": 0,
      "outputs": []
    },
    {
      "cell_type": "code",
      "metadata": {
        "id": "UCti5xpXd5Yp",
        "colab_type": "code",
        "outputId": "5279d8d7-96b5-4408-f4f2-73e15d875343",
        "colab": {
          "base_uri": "https://localhost:8080/",
          "height": 53
        }
      },
      "source": [
        "word_index=tokenizer.word_index\n",
        "print(len(word_index))\n",
        "\n",
        "embedding_matrix=np.zeros((len(word_index)+1,embedding_dim))\n",
        "print(embedding_matrix.shape)\n",
        "\n",
        "for word,i in word_index.items():\n",
        "  embedding_vector=embeddings_index.get(word)\n",
        "  if embedding_vector is not None:\n",
        "    embedding_matrix[i]=embedding_vector"
      ],
      "execution_count": 60,
      "outputs": [
        {
          "output_type": "stream",
          "text": [
            "36615\n",
            "(36616, 300)\n"
          ],
          "name": "stdout"
        }
      ]
    },
    {
      "cell_type": "markdown",
      "metadata": {
        "id": "Ip785dBdggNw",
        "colab_type": "text"
      },
      "source": [
        "## （3）Training the classifier\n",
        "\n",
        "\n",
        "1.   Since the text descriptions are generally short, I will be using GRU units as opposed to LSTM units. With shorter descriptions, we have less need for a memory unit and can benefit from GRU’s more efficient learning algorithm.\n",
        "2. I will also be utilizing early stopping, which (in this case) uses validation accuracy to determine whether we should continue training the network. When validation accuracy continuously drops over several epochs, early stopping will kick in and end the training process. It will also save the optimal weights as a “checkpoint” (in this case as model.h5) and rewrite the weights if accuracy improves. With early stopping, we can let the network train for many epochs without worrying too much about overfitting."
      ]
    },
    {
      "cell_type": "code",
      "metadata": {
        "id": "TziW_Ajqf7RA",
        "colab_type": "code",
        "outputId": "8424480e-1bfa-432a-8a3b-8770cc857990",
        "colab": {
          "base_uri": "https://localhost:8080/",
          "height": 395
        }
      },
      "source": [
        "embedding_layer=Embedding(len(word_index)+1,embedding_dim,weights=[embedding_matrix],input_length=max_len,trainable=False)\n",
        "\n",
        "input=Input(shape=(max_len,),dtype='int32')\n",
        "embedded_sequences=embedding_layer(input)\n",
        "x=Bidirectional(CuDNNGRU(50,return_sequences=True))(embedded_sequences)\n",
        "x=GlobalMaxPooling1D()(x)\n",
        "x=Dense(50,activation='relu')(x)\n",
        "x=Dropout(0.1)(x)\n",
        "output=Dense(num_classes,activation='softmax')(x)\n",
        "\n",
        "model=Model(inputs=input,outputs=output)\n",
        "model.compile(loss='categorical_crossentropy',optimizer='adam',metrics=['accuracy'])\n",
        "\n",
        "model.summary()"
      ],
      "execution_count": 71,
      "outputs": [
        {
          "output_type": "stream",
          "text": [
            "_________________________________________________________________\n",
            "Layer (type)                 Output Shape              Param #   \n",
            "=================================================================\n",
            "input_5 (InputLayer)         (None, 100)               0         \n",
            "_________________________________________________________________\n",
            "embedding_5 (Embedding)      (None, 100, 300)          10984800  \n",
            "_________________________________________________________________\n",
            "bidirectional_5 (Bidirection (None, 100, 100)          105600    \n",
            "_________________________________________________________________\n",
            "global_max_pooling1d_5 (Glob (None, 100)               0         \n",
            "_________________________________________________________________\n",
            "dense_9 (Dense)              (None, 50)                5050      \n",
            "_________________________________________________________________\n",
            "dropout_5 (Dropout)          (None, 50)                0         \n",
            "_________________________________________________________________\n",
            "dense_10 (Dense)             (None, 5)                 255       \n",
            "=================================================================\n",
            "Total params: 11,095,705\n",
            "Trainable params: 110,905\n",
            "Non-trainable params: 10,984,800\n",
            "_________________________________________________________________\n"
          ],
          "name": "stdout"
        }
      ]
    },
    {
      "cell_type": "code",
      "metadata": {
        "id": "cPxpbeTAjj1Q",
        "colab_type": "code",
        "colab": {}
      },
      "source": [
        "checkpoint=ModelCheckpoint('model.h5',monitor='val_loss',verbose=1,save_best_only=True,mode='min')\n",
        "early=EarlyStopping(monitor='val_loss',mode='min',patience=3)\n",
        "callback=[checkpoint,early]"
      ],
      "execution_count": 0,
      "outputs": []
    },
    {
      "cell_type": "code",
      "metadata": {
        "id": "JsUbTsK1kPX7",
        "colab_type": "code",
        "outputId": "97a7b681-7363-49b2-804a-1a8a75ff5fe8",
        "colab": {
          "base_uri": "https://localhost:8080/",
          "height": 917
        }
      },
      "source": [
        "model.fit(X_train,y_train,batch_size=batch_size,epochs=epochs,validation_data=(X_val,y_val),callbacks=callback,class_weight=class_weights)"
      ],
      "execution_count": 73,
      "outputs": [
        {
          "output_type": "stream",
          "text": [
            "Train on 143383 samples, validate on 7547 samples\n",
            "Epoch 1/50\n",
            "143383/143383 [==============================] - 17s 117us/step - loss: 1.3872 - acc: 0.4908 - val_loss: 0.9689 - val_acc: 0.5517\n",
            "\n",
            "Epoch 00001: val_loss improved from inf to 0.96887, saving model to model.h5\n",
            "Epoch 2/50\n",
            "143383/143383 [==============================] - 16s 111us/step - loss: 1.1230 - acc: 0.5761 - val_loss: 0.9143 - val_acc: 0.5792\n",
            "\n",
            "Epoch 00002: val_loss improved from 0.96887 to 0.91431, saving model to model.h5\n",
            "Epoch 3/50\n",
            "143383/143383 [==============================] - 16s 110us/step - loss: 1.0295 - acc: 0.6077 - val_loss: 0.8058 - val_acc: 0.6304\n",
            "\n",
            "Epoch 00003: val_loss improved from 0.91431 to 0.80579, saving model to model.h5\n",
            "Epoch 4/50\n",
            "143383/143383 [==============================] - 16s 109us/step - loss: 0.9653 - acc: 0.6278 - val_loss: 0.9503 - val_acc: 0.5588\n",
            "\n",
            "Epoch 00004: val_loss did not improve from 0.80579\n",
            "Epoch 5/50\n",
            "143383/143383 [==============================] - 18s 123us/step - loss: 0.9092 - acc: 0.6465 - val_loss: 0.8005 - val_acc: 0.6380\n",
            "\n",
            "Epoch 00005: val_loss improved from 0.80579 to 0.80046, saving model to model.h5\n",
            "Epoch 6/50\n",
            "143383/143383 [==============================] - 16s 112us/step - loss: 0.8567 - acc: 0.6637 - val_loss: 0.8103 - val_acc: 0.6404\n",
            "\n",
            "Epoch 00006: val_loss did not improve from 0.80046\n",
            "Epoch 7/50\n",
            "143383/143383 [==============================] - 16s 110us/step - loss: 0.8141 - acc: 0.6769 - val_loss: 0.8160 - val_acc: 0.6410\n",
            "\n",
            "Epoch 00007: val_loss did not improve from 0.80046\n",
            "Epoch 8/50\n",
            "143383/143383 [==============================] - 16s 110us/step - loss: 0.7771 - acc: 0.6888 - val_loss: 0.7517 - val_acc: 0.6703\n",
            "\n",
            "Epoch 00008: val_loss improved from 0.80046 to 0.75172, saving model to model.h5\n",
            "Epoch 9/50\n",
            "143383/143383 [==============================] - 16s 110us/step - loss: 0.7394 - acc: 0.7030 - val_loss: 0.7352 - val_acc: 0.6868\n",
            "\n",
            "Epoch 00009: val_loss improved from 0.75172 to 0.73520, saving model to model.h5\n",
            "Epoch 10/50\n",
            "143383/143383 [==============================] - 17s 116us/step - loss: 0.7070 - acc: 0.7136 - val_loss: 0.7937 - val_acc: 0.6657\n",
            "\n",
            "Epoch 00010: val_loss did not improve from 0.73520\n",
            "Epoch 11/50\n",
            "143383/143383 [==============================] - 16s 109us/step - loss: 0.6789 - acc: 0.7239 - val_loss: 0.8290 - val_acc: 0.6622\n",
            "\n",
            "Epoch 00011: val_loss did not improve from 0.73520\n",
            "Epoch 12/50\n",
            "143383/143383 [==============================] - 16s 110us/step - loss: 0.6655 - acc: 0.7292 - val_loss: 0.7510 - val_acc: 0.6876\n",
            "\n",
            "Epoch 00012: val_loss did not improve from 0.73520\n"
          ],
          "name": "stdout"
        },
        {
          "output_type": "execute_result",
          "data": {
            "text/plain": [
              "<keras.callbacks.History at 0x7f86666322b0>"
            ]
          },
          "metadata": {
            "tags": []
          },
          "execution_count": 73
        }
      ]
    },
    {
      "cell_type": "markdown",
      "metadata": {
        "id": "fV762SGDooL9",
        "colab_type": "text"
      },
      "source": [
        "## （4）Evaluate on Testing Set"
      ]
    },
    {
      "cell_type": "code",
      "metadata": {
        "id": "hn-tuDOyknkl",
        "colab_type": "code",
        "outputId": "6b627b2a-0739-4dc6-e3fb-6282df07a578",
        "colab": {
          "base_uri": "https://localhost:8080/",
          "height": 35
        }
      },
      "source": [
        "from sklearn.metrics import accuracy_score\n",
        "\n",
        "test = pd.read_csv(\"winemag-data-130k-v2.csv\", index_col = False)\n",
        "test[\"rating\"] = test[\"points\"].apply(points_to_class)\n",
        "\n",
        "sequences_test = tokenizer.texts_to_sequences(test[\"description\"])\n",
        "X_test = pad_sequences(sequences_test, maxlen=max_len)\n",
        "\n",
        "# Predictions\n",
        "pred_test = model.predict(X_test)\n",
        "pred_test = [np.argmax(x) for x in pred_test]\n",
        "\n",
        "# Actual\n",
        "true_test = onehot(test[\"rating\"], num_classes)\n",
        "true_test = [np.argmax(x) for x in true_test]\n",
        "\n",
        "# Find accuracies\n",
        "accuracy = accuracy_score(true_test, pred_test)\n",
        "print(\"The total accuracy is \", accuracy)"
      ],
      "execution_count": 74,
      "outputs": [
        {
          "output_type": "stream",
          "text": [
            "The total accuracy is  0.6473367135745667\n"
          ],
          "name": "stdout"
        }
      ]
    },
    {
      "cell_type": "markdown",
      "metadata": {
        "id": "X8nVvn-rVnvj",
        "colab_type": "text"
      },
      "source": [
        "## Accuracy over Test Set: 64.7%"
      ]
    },
    {
      "cell_type": "code",
      "metadata": {
        "id": "RwDZkjOdo1-x",
        "colab_type": "code",
        "outputId": "21f85d18-1245-4d66-dd7e-22e09b629d04",
        "colab": {
          "base_uri": "https://localhost:8080/",
          "height": 546
        }
      },
      "source": [
        "from sklearn.metrics import confusion_matrix\n",
        "\n",
        "cm = confusion_matrix(true_test, pred_test)\n",
        "\n",
        "# measuring by percentage correct\n",
        "cm = cm.astype('float') / cm.sum(axis=1)[:, np.newaxis]\n",
        "\n",
        "plt.imshow(cm, interpolation='nearest', cmap=plt.cm.Blues)\n",
        "\n",
        "class_name = [\"Acceptable\", \"Good\", \"Very Good\", \"Excellent\", \"Superb/Classic\"]\n",
        "plt.colorbar()\n",
        "tick_marks = np.arange(len(class_name))\n",
        "plt.xticks(tick_marks, class_name, rotation=45)\n",
        "plt.yticks(tick_marks, class_name)\n",
        "\n",
        "plt.show()"
      ],
      "execution_count": 75,
      "outputs": [
        {
          "output_type": "display_data",
          "data": {
            "image/png": "[encoded data removed]",
            "text/plain": [
              "<Figure size 864x576 with 2 Axes>"
            ]
          },
          "metadata": {
            "tags": []
          }
        }
      ]
    },
    {
      "cell_type": "code",
      "metadata": {
        "id": "ezJUYOhMpRYf",
        "colab_type": "code",
        "colab": {}
      },
      "source": [
        ""
      ],
      "execution_count": 0,
      "outputs": []
    }
  ]
}